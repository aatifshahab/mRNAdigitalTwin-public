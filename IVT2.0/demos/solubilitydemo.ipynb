{
 "cells": [
  {
   "cell_type": "markdown",
   "id": "42d0d94d",
   "metadata": {},
   "source": [
    "<h1>Magnesium Pyrophosphate Solubility<h1>"
   ]
  },
  {
   "cell_type": "markdown",
   "id": "8565f376",
   "metadata": {},
   "source": [
    "In this notebook, we use our published model to make predictions about the solution thermodynamics of Magnesium Pyrophosphate solutions. "
   ]
  },
  {
   "cell_type": "markdown",
   "id": "7cbe7f7f",
   "metadata": {},
   "source": [
    "<b>1. Importing required packages<b>"
   ]
  },
  {
   "cell_type": "code",
   "execution_count": 1,
   "id": "b9911a2b",
   "metadata": {
    "scrolled": true
   },
   "outputs": [
    {
     "name": "stderr",
     "output_type": "stream",
     "text": [
      "\u001b[32m\u001b[1m  Activating\u001b[22m\u001b[39m project at `C:\\Users\\ChemeGrad2021\\Documents\\Braatz Group\\MRNA Synthesis\\Published code\\IVTmechanisticmodel\\IVTmodel`\n",
      "\u001b[32m\u001b[1mPrecompiling\u001b[22m\u001b[39m project...\n",
      "\u001b[33m  ? \u001b[39mMetrics\n",
      "\u001b[32m\u001b[1mPrecompiling\u001b[22m\u001b[39m Metrics\n",
      "\u001b[36m\u001b[1m        Info\u001b[22m\u001b[39m Given Metrics was explicitly requested, output will be shown live \u001b[0K\n",
      "\u001b[0KWARNING: Method definition onehot_encode(Any, Any) in module Metrics at C:\\Users\\ChemeGrad2021\\.julia\\packages\\Metrics\\giLga\\src\\Classification.jl:5 overwritten on the same line (check for duplicate calls to `include`).\n",
      "\u001b[0KERROR: Method overwriting is not permitted during Module precompilation. Use `__precompile__(false)` to opt-out of precompilation.\n",
      "\u001b[33m  ? \u001b[39mMetrics\n",
      "\u001b[36m\u001b[1m[ \u001b[22m\u001b[39m\u001b[36m\u001b[1mInfo: \u001b[22m\u001b[39mPrecompiling Metrics [cb9f3049-315b-4f05-b90c-a8adaec4da78]\n",
      "WARNING: Method definition onehot_encode(Any, Any) in module Metrics at C:\\Users\\ChemeGrad2021\\.julia\\packages\\Metrics\\giLga\\src\\Classification.jl:5 overwritten on the same line (check for duplicate calls to `include`).\n",
      "ERROR: Method overwriting is not permitted during Module precompilation. Use `__precompile__(false)` to opt-out of precompilation.\n",
      "\u001b[36m\u001b[1m[ \u001b[22m\u001b[39m\u001b[36m\u001b[1mInfo: \u001b[22m\u001b[39mSkipping precompilation since __precompile__(false). Importing Metrics [cb9f3049-315b-4f05-b90c-a8adaec4da78].\n",
      "\u001b[33m\u001b[1m┌ \u001b[22m\u001b[39m\u001b[33m\u001b[1mWarning: \u001b[22m\u001b[39mReplacing docs for `Metrics.bin_to_cat :: Tuple{Any, Any}` in module `Metrics`\n",
      "\u001b[33m\u001b[1m└ \u001b[22m\u001b[39m\u001b[90m@ Base.Docs docs\\Docs.jl:243\u001b[39m\n",
      "\u001b[33m\u001b[1m┌ \u001b[22m\u001b[39m\u001b[33m\u001b[1mWarning: \u001b[22m\u001b[39mReplacing docs for `Metrics.confusion_matrix :: Tuple{Any, Any}` in module `Metrics`\n",
      "\u001b[33m\u001b[1m└ \u001b[22m\u001b[39m\u001b[90m@ Base.Docs docs\\Docs.jl:243\u001b[39m\n",
      "\u001b[33m\u001b[1m┌ \u001b[22m\u001b[39m\u001b[33m\u001b[1mWarning: \u001b[22m\u001b[39mReplacing docs for `Metrics.TFPN :: Tuple{Any, Any}` in module `Metrics`\n",
      "\u001b[33m\u001b[1m└ \u001b[22m\u001b[39m\u001b[90m@ Base.Docs docs\\Docs.jl:243\u001b[39m\n",
      "\u001b[33m\u001b[1m┌ \u001b[22m\u001b[39m\u001b[33m\u001b[1mWarning: \u001b[22m\u001b[39mReplacing docs for `Metrics.binary_accuracy :: Tuple{Any, Any}` in module `Metrics`\n",
      "\u001b[33m\u001b[1m└ \u001b[22m\u001b[39m\u001b[90m@ Base.Docs docs\\Docs.jl:243\u001b[39m\n",
      "\u001b[33m\u001b[1m┌ \u001b[22m\u001b[39m\u001b[33m\u001b[1mWarning: \u001b[22m\u001b[39mReplacing docs for `Metrics.categorical_accuracy :: Tuple{Any, Any}` in module `Metrics`\n",
      "\u001b[33m\u001b[1m└ \u001b[22m\u001b[39m\u001b[90m@ Base.Docs docs\\Docs.jl:243\u001b[39m\n",
      "\u001b[33m\u001b[1m┌ \u001b[22m\u001b[39m\u001b[33m\u001b[1mWarning: \u001b[22m\u001b[39mReplacing docs for `Metrics.sparse_categorical :: Tuple{Any, Any}` in module `Metrics`\n",
      "\u001b[33m\u001b[1m└ \u001b[22m\u001b[39m\u001b[90m@ Base.Docs docs\\Docs.jl:243\u001b[39m\n",
      "\u001b[33m\u001b[1m┌ \u001b[22m\u001b[39m\u001b[33m\u001b[1mWarning: \u001b[22m\u001b[39mReplacing docs for `Metrics.top_k_categorical :: Tuple{Any, Any}` in module `Metrics`\n",
      "\u001b[33m\u001b[1m└ \u001b[22m\u001b[39m\u001b[90m@ Base.Docs docs\\Docs.jl:243\u001b[39m\n",
      "\u001b[33m\u001b[1m┌ \u001b[22m\u001b[39m\u001b[33m\u001b[1mWarning: \u001b[22m\u001b[39mReplacing docs for `Metrics.top_k_sparse_categorical :: Tuple{Any, Any}` in module `Metrics`\n",
      "\u001b[33m\u001b[1m└ \u001b[22m\u001b[39m\u001b[90m@ Base.Docs docs\\Docs.jl:243\u001b[39m\n",
      "\u001b[33m\u001b[1m┌ \u001b[22m\u001b[39m\u001b[33m\u001b[1mWarning: \u001b[22m\u001b[39mReplacing docs for `Metrics.precision :: Tuple{Any, Any}` in module `Metrics`\n",
      "\u001b[33m\u001b[1m└ \u001b[22m\u001b[39m\u001b[90m@ Base.Docs docs\\Docs.jl:243\u001b[39m\n",
      "\u001b[33m\u001b[1m┌ \u001b[22m\u001b[39m\u001b[33m\u001b[1mWarning: \u001b[22m\u001b[39mReplacing docs for `Metrics.recall :: Tuple{Any, Any}` in module `Metrics`\n",
      "\u001b[33m\u001b[1m└ \u001b[22m\u001b[39m\u001b[90m@ Base.Docs docs\\Docs.jl:243\u001b[39m\n",
      "\u001b[33m\u001b[1m┌ \u001b[22m\u001b[39m\u001b[33m\u001b[1mWarning: \u001b[22m\u001b[39mReplacing docs for `Metrics.f_beta_score :: Tuple{Any, Any}` in module `Metrics`\n",
      "\u001b[33m\u001b[1m└ \u001b[22m\u001b[39m\u001b[90m@ Base.Docs docs\\Docs.jl:243\u001b[39m\n",
      "\u001b[33m\u001b[1m┌ \u001b[22m\u001b[39m\u001b[33m\u001b[1mWarning: \u001b[22m\u001b[39mReplacing docs for `Metrics.specificity :: Tuple{Any, Any}` in module `Metrics`\n",
      "\u001b[33m\u001b[1m└ \u001b[22m\u001b[39m\u001b[90m@ Base.Docs docs\\Docs.jl:243\u001b[39m\n",
      "\u001b[33m\u001b[1m┌ \u001b[22m\u001b[39m\u001b[33m\u001b[1mWarning: \u001b[22m\u001b[39mReplacing docs for `Metrics.false_alarm_rate :: Tuple{Any, Any}` in module `Metrics`\n",
      "\u001b[33m\u001b[1m└ \u001b[22m\u001b[39m\u001b[90m@ Base.Docs docs\\Docs.jl:243\u001b[39m\n",
      "\u001b[33m\u001b[1m┌ \u001b[22m\u001b[39m\u001b[33m\u001b[1mWarning: \u001b[22m\u001b[39mReplacing docs for `Metrics.cohen_kappa :: Tuple{Any, Any}` in module `Metrics`\n",
      "\u001b[33m\u001b[1m└ \u001b[22m\u001b[39m\u001b[90m@ Base.Docs docs\\Docs.jl:243\u001b[39m\n",
      "\u001b[33m\u001b[1m┌ \u001b[22m\u001b[39m\u001b[33m\u001b[1mWarning: \u001b[22m\u001b[39mReplacing docs for `Metrics.statsfromTFPN :: NTuple{4, Any}` in module `Metrics`\n",
      "\u001b[33m\u001b[1m└ \u001b[22m\u001b[39m\u001b[90m@ Base.Docs docs\\Docs.jl:243\u001b[39m\n",
      "\u001b[33m\u001b[1m┌ \u001b[22m\u001b[39m\u001b[33m\u001b[1mWarning: \u001b[22m\u001b[39mReplacing docs for `Metrics.classwise_stats_fn :: Tuple{Any, Any}` in module `Metrics`\n",
      "\u001b[33m\u001b[1m└ \u001b[22m\u001b[39m\u001b[90m@ Base.Docs docs\\Docs.jl:243\u001b[39m\n",
      "\u001b[33m\u001b[1m┌ \u001b[22m\u001b[39m\u001b[33m\u001b[1mWarning: \u001b[22m\u001b[39mReplacing docs for `Metrics.global_stats :: Tuple{Any, Any}` in module `Metrics`\n",
      "\u001b[33m\u001b[1m└ \u001b[22m\u001b[39m\u001b[90m@ Base.Docs docs\\Docs.jl:243\u001b[39m\n"
     ]
    }
   ],
   "source": [
    "using Pkg\n",
    "Pkg.activate(\"IVTmodel\")\n",
    "Pkg.instantiate()\n",
    "using DifferentialEquations\n",
    "using Plots\n",
    "using NLopt\n",
    "using LinearAlgebra\n",
    "using Metrics\n",
    "using CSV, DataFrames\n",
    "using StaticArrays\n",
    "using ForwardDiff\n",
    "using NamedTupleTools\n",
    "using BenchmarkTools\n",
    "using ComponentArrays\n",
    "using Distributions\n",
    "using Statistics\n",
    "using GenericLinearAlgebra\n",
    "using DiffResults\n",
    "using FLoops\n",
    "using SharedArrays\n",
    "using Plots.PlotMeasures\n",
    "using FlexiMaps\n",
    "using LaTeXStrings\n",
    "using DelimitedFiles\n",
    "using StatsBase\n",
    "using NLsolve\n",
    "\n",
    "include(\"./modules/model.jl\")\n",
    "include(\"./modules/parameterbackend.jl\")\n",
    "include(\"./modules/akamadataprocessing.jl\")\n",
    "include(\"./modules/akamaplotting.jl\")\n",
    "include(\"./modules/IVTplotting.jl\")\n",
    "include(\"./modules/modelfitting.jl\")\n",
    "include(\"./modules/residualcalculation.jl\")\n",
    "include(\"./modules/parameteruncertainty.jl\")\n",
    "include(\"./modules/predictionuncertainty.jl\")\n",
    "include(\"./modules/akamasensitivity.jl\");\n",
    "include(\"./modules/solubility.jl\");\n",
    "\n",
    "#Generates settings for parameters used\n",
    "fittingmodel = setupmodel()\n",
    "akamafittedparametersmatrix = Matrix(CSV.read(\"outputs/fittedparameters.csv\", DataFrame,header=false))\n",
    "akamafittedparameterslist = reshape(akamafittedparametersmatrix,(size(akamafittedparametersmatrix)[1],))\n",
    "akamafittedcovariancematrix = Matrix(CSV.read(\"outputs/covariancematrix.csv\", DataFrame,header=false))\n",
    "akamafittedparams = fullparameterset(fittingmodel,akamafittedparameterslist);\n",
    "\n",
    "covariance = akamafittedcovariancematrix\n",
    "pl = akamafittedparameterslist\n",
    "p = akamafittedparams;"
   ]
  },
  {
   "cell_type": "markdown",
   "id": "c4f3a7f2",
   "metadata": {},
   "source": [
    "<h>Example 1: Determining Supersaturation for single Mg, PPi input<h>"
   ]
  },
  {
   "cell_type": "code",
   "execution_count": 2,
   "id": "a4db64b4",
   "metadata": {},
   "outputs": [
    {
     "name": "stdout",
     "output_type": "stream",
     "text": [
      "2.043840489946637\n"
     ]
    }
   ],
   "source": [
    "#Change these values to explore parameter space!\n",
    "Mgtotal = 1.0e-3    #Values in moles/L\n",
    "PPitotal = 1.0e-3  #Values in moles/L\n",
    "\n",
    "#Collect inputs into a vector as shown\n",
    "inputs = [Mgtotal,PPitotal]\n",
    "\n",
    "#Use Sprediction function to determine prediction (as well as upper and lower bounds)\n",
    "\n",
    "(prediction, lower, upper) = supersaturationprediction(fittingmodel, pl, covariance, inputs)\n",
    "\n",
    "#Our prediction function actually gives a vector with multiple pieces of information: [S, Mg2PPi, MgPPi, Mg free]\n",
    "#To get the supersaturation, index the first point\n",
    "println(prediction[1])"
   ]
  },
  {
   "cell_type": "markdown",
   "id": "bb827d13",
   "metadata": {},
   "source": [
    "<h>Example 2: Plotting supersaturation as a function of Mg input (constant PPi)<h>"
   ]
  },
  {
   "cell_type": "code",
   "execution_count": null,
   "id": "aa3c1609",
   "metadata": {
    "scrolled": false
   },
   "outputs": [],
   "source": [
    "#Values in moles/L\n",
    "Mginput_min = 0.1e-3\n",
    "Mginput_max = 3e-3\n",
    "PPiinput = 1e-3\n",
    "\n",
    "nsamples = 2000#Number of mc samples for uncertainty\n",
    "valueindex = 1#Number that we are interested in getting the model to predict (eg S = 1)\n",
    "nevaluationpoints = 50#Resolution of our curve\n",
    "\n",
    "\n",
    "#You dont have to change anything below this line\n",
    "Mginputs = LinRange(Mginput_min,Mginput_max,nevaluationpoints)\n",
    "S = zeros(nevaluationpoints)\n",
    "S_lowerbound = zeros(nevaluationpoints)\n",
    "S_upperbound = zeros(nevaluationpoints)\n",
    "\n",
    "for (index,i) in enumerate(Mginputs)\n",
    "    inputs = [i,PPiinput]\n",
    "    (prediction, lower, upper) = supersaturationprediction(fittingmodel, pl, covariance, inputs,nsamples)\n",
    "    S[index] = prediction[valueindex]\n",
    "    S_lowerbound[index] = lower[valueindex]\n",
    "    S_upperbound[index] = upper[valueindex]\n",
    "end\n",
    "plot(Mginputs,S,ylabel = \"S\", xlabel = \"Mg Input (M)\")\n",
    "plot!(Mginputs, S_lowerbound, fillrange = S_upperbound, fillalpha = 0.35,alpha=0.0,color = :blue)"
   ]
  },
  {
   "cell_type": "markdown",
   "id": "30083cd7",
   "metadata": {},
   "source": [
    "<h>Example 3: Plotting supersaturation as a function of PPi input (constant Mg input)<h>"
   ]
  },
  {
   "cell_type": "code",
   "execution_count": null,
   "id": "08060fe3",
   "metadata": {},
   "outputs": [],
   "source": [
    "#Values in moles/L\n",
    "PPiinput_min = 0.1e-3\n",
    "PPiinput_max = 3e-3\n",
    "Mginput = 1e-3\n",
    "\n",
    "nsamples = 2000#Number of mc samples for uncertainty\n",
    "valueindex = 1#Number that we are interested in getting the model to predict (eg S = 1)\n",
    "nevaluationpoints = 50#Resolution of our curve\n",
    "\n",
    "#You dont have to change anything below this line\n",
    "PPiinputs = LinRange(Mginput_min,Mginput_max,nevaluationpoints)\n",
    "S = zeros(nevaluationpoints)\n",
    "S_lowerbound = zeros(nevaluationpoints)\n",
    "S_upperbound = zeros(nevaluationpoints)\n",
    "\n",
    "for (index,i) in enumerate(PPiinputs)\n",
    "    inputs = [Mginput,i]\n",
    "    (prediction, lower, upper) = supersaturationprediction(fittingmodel, pl, covariance, inputs,nsamples)\n",
    "    S[index] = prediction[valueindex]\n",
    "    S_lowerbound[index] = lower[valueindex]\n",
    "    S_upperbound[index] = upper[valueindex]\n",
    "end\n",
    "plot(Mginputs,S,ylabel = \"S\", xlabel = \"PPi Input (M)\")\n",
    "plot!(Mginputs, S_lowerbound, fillrange = S_upperbound, fillalpha = 0.35,alpha=0.0,color = :blue)"
   ]
  },
  {
   "cell_type": "markdown",
   "id": "b032c175",
   "metadata": {},
   "source": [
    "<h>Example 4: Phase Diagram of Mg, PPi input space<h>"
   ]
  },
  {
   "cell_type": "code",
   "execution_count": null,
   "id": "208129bf",
   "metadata": {},
   "outputs": [],
   "source": [
    "#Values in moles/L\n",
    "Mginput_min = 0.1e-3\n",
    "Mginput_max = 5e-3\n",
    "PPiinput_min = 0.1e-3\n",
    "PPiinput_max = 5e-3\n",
    "\n",
    "nsamples = 500#Number of mc samples for uncertainty\n",
    "n_Mginputs = 25#Resolution of Mg input space\n",
    "n_PPiinputs = 25#Resolution of PPi input space\n",
    "\n",
    "Mginputs = LinRange(Mginput_min,Mginput_max,n_Mginputs)\n",
    "PPiinputs = LinRange(PPiinput_min,PPiinput_max,n_PPiinputs)\n",
    "supersaturation = zeros(n_Mginputs,n_PPiinputs)\n",
    "soluble = zeros(n_Mginputs,n_PPiinputs)\n",
    "\n",
    "for i in 1:n_Mginputs\n",
    "    for j in 1:n_PPiinputs\n",
    "        inputs = [Mginputs[i],PPiinputs[j]]\n",
    "        (prediction, lower, upper) = supersaturationprediction(fittingmodel, pl, covariance, inputs, nsamples)\n",
    "        supersaturation[i,j] = prediction[1]\n",
    "        soluble[i,j] = sum(1 .<[prediction[1],lower[1],upper[1]])/3\n",
    "    end\n",
    "end"
   ]
  },
  {
   "cell_type": "markdown",
   "id": "abdd0a3f",
   "metadata": {},
   "source": [
    "There are two ways to show this information. First we can plot supersaturation as a function of Mg and PPi input. "
   ]
  },
  {
   "cell_type": "code",
   "execution_count": null,
   "id": "51a598fd",
   "metadata": {
    "scrolled": false
   },
   "outputs": [],
   "source": [
    "heatmap(1000*PPiinputs,1000*Mginputs,supersaturation,ylabel = \"Mg input (mM)\",xlabel = \"PPi input (mM)\",colorbar_title = \"S\",c = :berlin)"
   ]
  },
  {
   "cell_type": "markdown",
   "id": "689f9841",
   "metadata": {},
   "source": [
    "Second, we can plot a discrete value represeting whether S>1. This most closely resembles a \"diagram\". Basically, pink represents an input set that will result in solid formation, while blue represents an input set that is soluble. "
   ]
  },
  {
   "cell_type": "code",
   "execution_count": null,
   "id": "ec460016",
   "metadata": {},
   "outputs": [],
   "source": [
    "heatmap(1000*PPiinputs,1000*Mginputs,soluble,ylabel = \"Mg input (mM)\",xlabel = \"PPi input (mM)\",colorbar_title = \"Solid Formation\",c = :berlin)"
   ]
  }
 ],
 "metadata": {
  "kernelspec": {
   "display_name": "Julia 1.10.0",
   "language": "julia",
   "name": "julia-1.10"
  },
  "language_info": {
   "file_extension": ".jl",
   "mimetype": "application/julia",
   "name": "julia",
   "version": "1.10.0"
  }
 },
 "nbformat": 4,
 "nbformat_minor": 5
}
