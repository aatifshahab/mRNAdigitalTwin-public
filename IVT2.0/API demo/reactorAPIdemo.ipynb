{
 "cells": [
  {
   "cell_type": "markdown",
   "id": "14c46250",
   "metadata": {},
   "source": [
    "<h1>IVT Reactor API Demo<h1>\n"
   ]
  },
  {
   "cell_type": "markdown",
   "id": "bd200965",
   "metadata": {},
   "source": [
    "    \n",
    "This is a demo of a simple API for using the IVT model for prediction. \n",
    "In this notebook we will \n",
    "1. Show off documentation for the API\n",
    "2. Run the functions and discuss the output"
   ]
  },
  {
   "cell_type": "code",
   "execution_count": 9,
   "id": "aacfae4e",
   "metadata": {
    "scrolled": true
   },
   "outputs": [
    {
     "name": "stderr",
     "output_type": "stream",
     "text": [
      "\u001b[32m\u001b[1m  Activating\u001b[22m\u001b[39m project at `C:\\Users\\moha0095\\ivt-appNew\\IVT2.0\\IVTmodel`\n",
      "\u001b[32m\u001b[1mPrecompiling\u001b[22m\u001b[39m project...\n",
      "\u001b[33m  ? \u001b[39mMetrics\n"
     ]
    },
    {
     "name": "stdout",
     "output_type": "stream",
     "text": [
      "Model has 25 fitted parameters, 17 of which have a bayesian prior\n"
     ]
    },
    {
     "data": {
      "text/plain": [
       "IVT_CSTR (generic function with 1 method)"
      ]
     },
     "execution_count": 9,
     "metadata": {},
     "output_type": "execute_result"
    }
   ],
   "source": [
    "#Importing API\n",
    "include(\"../modules/API/reactorAPI.jl\")\n",
    "#We will also need BenchmarkTools to assess performance\n",
    "#using BenchmarkTools"
   ]
  },
  {
   "cell_type": "markdown",
   "id": "2c8631b3",
   "metadata": {},
   "source": [
    "<h2>Part 1: Generating Model Predictions<h2>"
   ]
  },
  {
   "cell_type": "code",
   "execution_count": null,
   "id": "1b215387",
   "metadata": {
    "scrolled": true
   },
   "outputs": [],
   "source": [
    "?IVT_PFR # Use a question mark like this to pull up documentation"
   ]
  },
  {
   "cell_type": "code",
   "execution_count": null,
   "id": "3b7b4872",
   "metadata": {
    "scrolled": true
   },
   "outputs": [],
   "source": [
    "#Play with the code below! Try:\n",
    "#outputfunction = ph\n",
    "#outputfunction = atp\n",
    "#outputfunction = utp\n",
    "#outputfunction = ctp\n",
    "#outputfunction = gtp\n",
    "#outputfunction = cappingfraction, Cap = 0.001 (since the default cap concentration is 0 we have to add cap to get an interesting result)\n",
    "\n",
    "\n",
    "T7RNAP = 1e-7 #Typical values are between 1e-8 = 2e-7\n",
    "ATP = CTP = GTP = UTP = 0.0032 #Typical values are between 0.003 - 0.015\n",
    "Mg = 0.008 #Typical values are between 0.006 - 0.060\n",
    "DNA = 7.4 #Typical values are between 1 - 50\n",
    "finaltime = 2 #Typical values are between 0.5 - 10\n",
    "stoich = (400,400,400,400)\n",
    "(timepoints, sol, outputs) = IVT_PFR(T7RNAP,ATP,UTP,CTP,GTP,Mg,DNA,finaltime, stoich = stoich, outputfunction = multiple_outputs)\n"
   ]
  },
  {
   "cell_type": "code",
   "execution_count": null,
   "id": "c37c0f7e",
   "metadata": {
    "scrolled": true
   },
   "outputs": [],
   "source": [
    "@benchmark IVT_PFR(T7RNAP,ATP,UTP,CTP,GTP,Mg,DNA,finaltime, stoich = stoich)"
   ]
  },
  {
   "cell_type": "code",
   "execution_count": null,
   "id": "2d054bec",
   "metadata": {
    "scrolled": true
   },
   "outputs": [],
   "source": [
    "# akamafittedparametersmatrix = Matrix(CSV.read(\"../outputs/fittedparameters.csv\", DataFrame,header=false))\n",
    "# println(pwd())\n"
   ]
  },
  {
   "cell_type": "code",
   "execution_count": 10,
   "id": "563532db",
   "metadata": {},
   "outputs": [
    {
     "data": {
      "text/plain": [
       "(timepoints = [0.0, 0.1, 0.2, 0.3, 0.4, 0.5, 0.6, 0.7, 0.8, 0.9  …  1.1, 1.2, 1.3, 1.4, 1.5, 1.6, 1.7, 1.8, 1.9, 2.0], ATP = [3.2, 3.0948277389746814, 3.0192131793668135, 2.9609650870976827, 2.914288598374512, 2.875927194873575, 2.843848587471958, 2.816692211709456, 2.793469334615577, 2.773464529171487  …  2.7410456815194735, 2.7278595844702256, 2.7162974046687838, 2.706133532658633, 2.697175117835692, 2.689270374327027, 2.6822788797082286, 2.676089194529179, 2.6706026576204036, 2.6657353200703464], UTP = [3.2, 3.0879983713756345, 3.0074737754295926, 2.945443339506622, 2.895735909957271, 2.8548835062290006, 2.820721872372733, 2.791802095586692, 2.7670712394607424, 2.745767420676127  …  2.7112434530467118, 2.6972011159293316, 2.684888145231692, 2.6740642815325706, 2.664524151461387, 2.6561061129196917, 2.6486606251438274, 2.6420690123557486, 2.6362262068165334, 2.6310428083866024], CTP = [3.2, 3.113949968252013, 3.0520835103910295, 3.0044259803526483, 2.9662361259427805, 2.934849523078377, 2.9086033897497816, 2.886384536853189, 2.867384001049106, 2.8510164329584873  …  2.824491921243204, 2.813703296384729, 2.8042433310926405, 2.795927435811608, 2.7885978236837468, 2.782130306267567, 2.7764099924885497, 2.7713457046147822, 2.7668567198712384, 2.762874352784828], GTP = [3.2, 3.108031182999503, 3.0419093603121032, 2.9909737991070613, 2.9501571293145057, 2.9166116595864127, 2.8885602366637873, 2.8648131028801274, 2.844505651914917, 2.82701227226251  …  2.798663323233477, 2.787132623649287, 2.777021972913827, 2.7681340848356863, 2.760300319492682, 2.753387946381209, 2.7472741718660694, 2.741861546731143, 2.737063795841218, 2.7328075093255833], Phosphate = [1.0e-15, 1.0e-15, 1.0e-15, 1.0e-15, 1.0e-15, 1.0e-15, 1.0e-15, 1.0e-15, 1.0e-15, 1.0e-15  …  1.0e-15, 1.0e-15, 1.0e-15, 1.0e-15, 1.0e-15, 1.0e-15, 1.0e-15, 1.0e-15, 1.0e-15, 1.0e-15], pH = [7.981778418233111, 7.9678099242617195, 7.958164002349765, 7.9509633197123435, 7.94533763017241, 7.940810187121157, 7.937089979307277, 7.933986680843513, 7.931366785037124, 7.929134379904718  …  7.9255640805123875, 7.924128115852915, 7.922876938770901, 7.921782253050019, 7.920821957674814, 7.919977370571794, 7.919232245940579, 7.918573996359674, 7.917991085040877, 7.917474194311579], TotalMg = [8.0, 8.0, 8.0, 8.000000000000016, 7.999999999666676, 7.999999987321425, 7.999999824188549, 7.999998286388881, 7.999992252649888, 7.999975137726852  …  7.999858771712795, 7.999725462806462, 7.999514551375483, 7.9992031953017415, 7.998769001412756, 7.998190749880356, 7.997448503130053, 7.99652599396293, 7.995409374153677, 7.994088667825714], TotalRNA = [0.0, 0.4552911732697805, 0.7826269291479963, 1.0347831727373111, 1.2368458944826386, 1.4029125763048798, 1.5417810066149082, 1.6593410748508484, 1.7598730103221882, 1.8464738996905419  …  1.9868152315174372, 2.0438979027262985, 2.0939506291394685, 2.137950075070855, 2.1767310916203835, 2.2109507604890637, 2.241216970960054, 2.268012144895332, 2.291763386924663, 2.312834112249586])"
      ]
     },
     "execution_count": 10,
     "metadata": {},
     "output_type": "execute_result"
    }
   ],
   "source": [
    "########################\n",
    "####################\n",
    "# CSTR function\n",
    "\n",
    "# Define reactor parameters\n",
    "Q = 1.0   # Flow rate in L/hr\n",
    "V = 2.0   # Reactor volume in L\n",
    "\n",
    "# Define inputs\n",
    "T7RNAP = 1e-7  # mol/L\n",
    "ATP = CTP = GTP = UTP = 0.0032  # mol/L\n",
    "Mg = 0.008  # mol/L\n",
    "DNA = 7.4   # mol/L\n",
    "\n",
    "# Define simulation time and save points\n",
    "final_time = 2.0  # Simulation time in hours\n",
    "saveat = 0.1  # Saves at every 0.1 hour\n",
    "\n",
    "# Run the CSTR simulation with specified final_time and saveat\n",
    "outputs = IVT_CSTR(T7RNAP, ATP, UTP, CTP, GTP, Mg, DNA, Q, V; \n",
    "                       final_time = final_time, saveat = saveat)\n",
    "\n",
    "# Display the outputs\n",
    "# println(\"Steady-state outputs:\")\n",
    "# println(output)\n"
   ]
  },
  {
   "cell_type": "code",
   "execution_count": 11,
   "id": "18de6ded-d216-4980-acb2-d3f48060b01d",
   "metadata": {},
   "outputs": [
    {
     "data": {
      "text/plain": [
       "(timepoints = [0.0, 0.1, 0.2, 0.3, 0.4, 0.5, 0.6, 0.7, 0.8, 0.9  …  1.1, 1.2, 1.3, 1.4, 1.5, 1.6, 1.7, 1.8, 1.9, 2.0], ATP = [3.2, 3.0948277389746814, 3.0192131793668135, 2.9609650870976827, 2.914288598374512, 2.875927194873575, 2.843848587471958, 2.816692211709456, 2.793469334615577, 2.773464529171487  …  2.7410456815194735, 2.7278595844702256, 2.7162974046687838, 2.706133532658633, 2.697175117835692, 2.689270374327027, 2.6822788797082286, 2.676089194529179, 2.6706026576204036, 2.6657353200703464], UTP = [3.2, 3.0879983713756345, 3.0074737754295926, 2.945443339506622, 2.895735909957271, 2.8548835062290006, 2.820721872372733, 2.791802095586692, 2.7670712394607424, 2.745767420676127  …  2.7112434530467118, 2.6972011159293316, 2.684888145231692, 2.6740642815325706, 2.664524151461387, 2.6561061129196917, 2.6486606251438274, 2.6420690123557486, 2.6362262068165334, 2.6310428083866024], CTP = [3.2, 3.113949968252013, 3.0520835103910295, 3.0044259803526483, 2.9662361259427805, 2.934849523078377, 2.9086033897497816, 2.886384536853189, 2.867384001049106, 2.8510164329584873  …  2.824491921243204, 2.813703296384729, 2.8042433310926405, 2.795927435811608, 2.7885978236837468, 2.782130306267567, 2.7764099924885497, 2.7713457046147822, 2.7668567198712384, 2.762874352784828], GTP = [3.2, 3.108031182999503, 3.0419093603121032, 2.9909737991070613, 2.9501571293145057, 2.9166116595864127, 2.8885602366637873, 2.8648131028801274, 2.844505651914917, 2.82701227226251  …  2.798663323233477, 2.787132623649287, 2.777021972913827, 2.7681340848356863, 2.760300319492682, 2.753387946381209, 2.7472741718660694, 2.741861546731143, 2.737063795841218, 2.7328075093255833], Phosphate = [1.0e-15, 1.0e-15, 1.0e-15, 1.0e-15, 1.0e-15, 1.0e-15, 1.0e-15, 1.0e-15, 1.0e-15, 1.0e-15  …  1.0e-15, 1.0e-15, 1.0e-15, 1.0e-15, 1.0e-15, 1.0e-15, 1.0e-15, 1.0e-15, 1.0e-15, 1.0e-15], pH = [7.981778418233111, 7.9678099242617195, 7.958164002349765, 7.9509633197123435, 7.94533763017241, 7.940810187121157, 7.937089979307277, 7.933986680843513, 7.931366785037124, 7.929134379904718  …  7.9255640805123875, 7.924128115852915, 7.922876938770901, 7.921782253050019, 7.920821957674814, 7.919977370571794, 7.919232245940579, 7.918573996359674, 7.917991085040877, 7.917474194311579], TotalMg = [8.0, 8.0, 8.0, 8.000000000000016, 7.999999999666676, 7.999999987321425, 7.999999824188549, 7.999998286388881, 7.999992252649888, 7.999975137726852  …  7.999858771712795, 7.999725462806462, 7.999514551375483, 7.9992031953017415, 7.998769001412756, 7.998190749880356, 7.997448503130053, 7.99652599396293, 7.995409374153677, 7.994088667825714], TotalRNA = [0.0, 0.4552911732697805, 0.7826269291479963, 1.0347831727373111, 1.2368458944826386, 1.4029125763048798, 1.5417810066149082, 1.6593410748508484, 1.7598730103221882, 1.8464738996905419  …  1.9868152315174372, 2.0438979027262985, 2.0939506291394685, 2.137950075070855, 2.1767310916203835, 2.2109507604890637, 2.241216970960054, 2.268012144895332, 2.291763386924663, 2.312834112249586])"
      ]
     },
     "execution_count": 11,
     "metadata": {},
     "output_type": "execute_result"
    }
   ],
   "source": [
    "outputs"
   ]
  },
  {
   "cell_type": "code",
   "execution_count": null,
   "id": "3c28b3bf-7c59-4cb2-b290-5816bc6fc91c",
   "metadata": {},
   "outputs": [],
   "source": [
    "# This is for extracting states.\n",
    "# can be used after running PFR and CSTR both\n",
    "\n",
    "using Plots\n",
    "\n",
    "# Time points\n",
    "time = sol.t\n",
    "\n",
    "# State variables extraction\n",
    "DNAtot = [u[1] for u in sol.u]\n",
    "T7RNAPtot = [u[2] for u in sol.u]\n",
    "capRNAtot = [u[3] for u in sol.u]*1e6\n",
    "uncapRNAtot = [u[4] for u in sol.u]*1e6\n",
    "totalRNA = [capRNAtot[i] + uncapRNAtot[i] for i in 1:length(time)]\n",
    "dsRNAtot = [u[5] for u in sol.u]*1e9\n",
    "PPitot = [u[6] for u in sol.u]*1e3\n",
    "ATPtot = [u[7] for u in sol.u]*1e3\n",
    "UTPtot = [u[8] for u in sol.u]*1e3\n",
    "CTPtot = [u[9] for u in sol.u]*1e3\n",
    "GTPtot = [u[10] for u in sol.u]*1e3\n",
    "Captot = [u[11] for u in sol.u]*1e3\n",
    "Mgtot = [u[12] for u in sol.u]*1e3\n",
    "Nuctot = [u[13] for u in sol.u]\n",
    "Pitot = [u[14] for u in sol.u]\n",
    "H = [u[15] for u in sol.u]\n",
    "Mg = [u[16] for u in sol.u]*1e3\n",
    "Na = [u[17] for u in sol.u]\n"
   ]
  },
  {
   "cell_type": "code",
   "execution_count": null,
   "id": "b89ade17-cf5b-473f-aaea-37fb4d482e80",
   "metadata": {},
   "outputs": [],
   "source": [
    "# plot(time, capRNAtot, label = \"Capped RNA\")\n",
    "# plot!(time, uncapRNAtot, label = \"Uncapped RNA\")\n",
    "plot(time, totalRNA, label = \"Total RNA\")\n",
    "xlabel!(\"Time (hr)\")\n",
    "ylabel!(\"Concentration (mol/L)\")\n",
    "title!(\"RNA Concentrations vs. Time\")\n",
    "# savefig(\"RNA_concentrations.png\")\n"
   ]
  },
  {
   "cell_type": "code",
   "execution_count": null,
   "id": "bf59e68e-719c-4a53-8756-c914ab700ac8",
   "metadata": {},
   "outputs": [],
   "source": [
    "plot(time, ATPtot, label = \"ATP\")\n",
    "plot!(time, UTPtot, label = \"UTP\")\n",
    "plot!(time, CTPtot, label = \"CTP\")\n",
    "plot!(time, GTPtot, label = \"GTP\")\n",
    "xlabel!(\"Time (hr)\")\n",
    "ylabel!(\"Concentration (mol/L)\")\n",
    "title!(\"NTP Concentrations vs. Time\")\n",
    "# savefig(\"NTP_concentrations.png\")\n"
   ]
  },
  {
   "cell_type": "code",
   "execution_count": null,
   "id": "09963597-ea03-4f1f-b13d-30b8f33c686b",
   "metadata": {},
   "outputs": [],
   "source": [
    "# plot(time, T7RNAPtot, label = \"T7 RNAP\")\n",
    "# xlabel!(\"Time (hr)\")\n",
    "# ylabel!(\"Concentration (mol/L)\")\n",
    "# title!(\"T7 RNA Polymerase Concentration vs. Time\")\n",
    "# savefig(\"T7RNAP_concentration.png\")\n"
   ]
  },
  {
   "cell_type": "code",
   "execution_count": null,
   "id": "1d74e095-4d2b-4128-9007-b6329f6e0002",
   "metadata": {},
   "outputs": [],
   "source": [
    "plot(time, DNAtot, label = \"DNA\")\n",
    "xlabel!(\"Time (hr)\")\n",
    "ylabel!(\"Concentration (mol/L)\")\n",
    "title!(\"DNA Concentration vs. Time\")\n",
    "# savefig(\"DNA_concentration.png\")\n"
   ]
  },
  {
   "cell_type": "code",
   "execution_count": null,
   "id": "9f6a6c6b-25d8-4588-a1c0-2e28029503a4",
   "metadata": {},
   "outputs": [],
   "source": [
    "# plot(time, Mgtot, label = \"Total Mg\")\n",
    "plot(time, Mg, label = \"Free Mg\")\n",
    "xlabel!(\"Time (hr)\")\n",
    "ylabel!(\"Concentration (mol/L)\")\n",
    "title!(\"Magnesium Concentrations vs. Time\")\n",
    "# savefig(\"Mg_concentrations.png\")\n"
   ]
  },
  {
   "cell_type": "code",
   "execution_count": null,
   "id": "86d7b7f2-01fc-462a-bc63-ab31b90b01f2",
   "metadata": {},
   "outputs": [],
   "source": [
    "pH = [-log10(H_i) for H_i in H]\n",
    "plot(time, pH, label = \"pH\")\n",
    "xlabel!(\"Time (hr)\")\n",
    "ylabel!(\"pH\")\n",
    "title!(\"pH vs. Time\")\n",
    "# savefig(\"pH_vs_time.png\")\n"
   ]
  },
  {
   "cell_type": "code",
   "execution_count": null,
   "id": "7a1d90f0-6f67-4f4d-921e-da322aa8f831",
   "metadata": {},
   "outputs": [],
   "source": [
    "# function multiple_outputs(sol, p)\n",
    "#     return (\n",
    "#         ATP = atp(sol, p),\n",
    "#         UTP = utp(sol, p),\n",
    "#         CTP = ctp(sol, p),\n",
    "#         GTP = gtp(sol, p),\n",
    "#         Phosphate = phosphate(sol, p),\n",
    "#         pH = ph(sol, p),\n",
    "#         TotalMg = totalMg(sol, p),\n",
    "#         TotalRNA = totalrna(sol, p)\n",
    "#     )\n",
    "# end\n"
   ]
  },
  {
   "cell_type": "code",
   "execution_count": 12,
   "id": "077a0919-a919-491b-81fa-449832ee8137",
   "metadata": {},
   "outputs": [
    {
     "name": "stdout",
     "output_type": "stream",
     "text": [
      "0.0:0.1:2.0\n"
     ]
    }
   ],
   "source": [
    "range_str = \"0:0.1:2.0\"\n",
    "saveat = eval(Meta.parse(range_str))\n",
    "println(saveat)"
   ]
  },
  {
   "cell_type": "code",
   "execution_count": null,
   "id": "3c103333-385b-43df-90c0-0fca26991068",
   "metadata": {},
   "outputs": [],
   "source": []
  }
 ],
 "metadata": {
  "kernelspec": {
   "display_name": "Julia 1.10.0",
   "language": "julia",
   "name": "julia-1.10"
  },
  "language_info": {
   "file_extension": ".jl",
   "mimetype": "application/julia",
   "name": "julia",
   "version": "1.10.0"
  }
 },
 "nbformat": 4,
 "nbformat_minor": 5
}
